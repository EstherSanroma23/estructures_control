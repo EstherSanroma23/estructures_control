{
 "cells": [
  {
   "cell_type": "markdown",
   "id": "15f15b41",
   "metadata": {},
   "source": [
    "## Exercici 1\n",
    "### L'exercici consisteix a crear un programa que et classifiqui una variable numèrica en funció de l’escala Suspès/Aprovat/Notable/Excel·lent.\n",
    "\n",
    "Recorda que Suspès < 5, Aprovat > 5 i < 7, Notable > 7 i < 9 i Excel·lent > 9."
   ]
  },
  {
   "cell_type": "code",
   "execution_count": 75,
   "id": "9de856cc",
   "metadata": {},
   "outputs": [
    {
     "name": "stdout",
     "output_type": "stream",
     "text": [
      "Nota:8\n",
      "Notable\n"
     ]
    }
   ],
   "source": [
    "n=float(input(\"Nota:\"))\n",
    "if n<5:\n",
    "    print(\"Suspès\")\n",
    "elif 5<=n<7:\n",
    "    print(\"Aprovat\")\n",
    "elif n>=7 and n<9:\n",
    "    print(\"Notable\")\n",
    "elif n>=9:\n",
    "    print(\"Excel.lent\")"
   ]
  },
  {
   "cell_type": "markdown",
   "id": "adf14e8e",
   "metadata": {},
   "source": [
    "## Exercici 2\n",
    "### Utilitzant el següent tutorial crea un programa que et pregunti dos números. T’ha de mostrar un missatge dient si el primer és més gran, el segon és més gran o són iguals."
   ]
  },
  {
   "cell_type": "code",
   "execution_count": 25,
   "id": "4d7e01ce",
   "metadata": {},
   "outputs": [
    {
     "name": "stdout",
     "output_type": "stream",
     "text": [
      "Escriu un número: 4\n",
      "Escriu un altre número : 8\n",
      "El segon és més gran que el primer\n",
      "\n"
     ]
    }
   ],
   "source": [
    "primer = int(input(\"Escriu un número: \"))\n",
    "segon = int(input(f\"Escriu un altre número : \"))\n",
    "\n",
    "if segon < primer:\n",
    "    segon = print  (\"El primer és més gran que el segon\")\n",
    "    \n",
    "elif segon > primer:\n",
    "    segon = print(\"El segon és més gran que el primer\")\n",
    "\n",
    "else : print(\"son iguals\")\n",
    "   \n",
    "print()\n",
    "\n"
   ]
  },
  {
   "cell_type": "markdown",
   "id": "01b77b83",
   "metadata": {},
   "source": [
    "## Exercici 3\n",
    "### Crea un programa que et pregunti el teu nom, i et demani un número. Si el número és 0, hauria de mostrar un missatge d’error. En cas contrari, hauria de mostrar el nom repetit tants cops com indiqui el número. Per exemple, “Joan Joan Joan”.\n"
   ]
  },
  {
   "cell_type": "code",
   "execution_count": 78,
   "id": "a297eb9a",
   "metadata": {},
   "outputs": [
    {
     "name": "stdout",
     "output_type": "stream",
     "text": [
      "Quin és el teu nom?: Esther\n",
      "Escriu un número: 9\n",
      "Esther Esther Esther Esther Esther Esther Esther Esther Esther "
     ]
    }
   ],
   "source": [
    "Nom = input(\"Quin és el teu nom?: \")\n",
    "Numero= int(input(\"Escriu un número: \"))\n",
    "if Numero == 0:\n",
    " Numero= print(\"ERROR\")\n",
    "for i in range(Numero):\n",
    "\n",
    " print(Nom,end=\" \")"
   ]
  },
  {
   "cell_type": "markdown",
   "id": "2c01529a",
   "metadata": {},
   "source": [
    "## Exercici 4\n",
    "### Crea un programa que donada una llista qualsevol, et digui si és simètrica o no. Si ho és, que et digui quants elements té.\n"
   ]
  },
  {
   "cell_type": "code",
   "execution_count": 74,
   "id": "be9ae3fb",
   "metadata": {},
   "outputs": [
    {
     "name": "stdout",
     "output_type": "stream",
     "text": [
      "Es simètrica\n",
      "El número total d'elements son: 3\n"
     ]
    }
   ],
   "source": [
    "L1 = [2,4,2]\n",
    "def simetria(L1):\n",
    "    if L1 == list(reversed(L1)):\n",
    "        print (\"Es simètrica\")\n",
    "        print(\"El número total d'elements son:\", len(L1))\n",
    "    else:\n",
    "        print (\"No és simètrica\")\n",
    "simetria(L1)\n"
   ]
  },
  {
   "cell_type": "markdown",
   "id": "5472a34c",
   "metadata": {},
   "source": [
    "## Exercici 5\n",
    "### Crea un programa que donada una llista, et digui quants números coincideixen amb la seva posició. Per exemple [3,4,2,0,2,3,6] el 2 i el 6 coincideixen."
   ]
  },
  {
   "cell_type": "code",
   "execution_count": 159,
   "id": "8b4c98ac",
   "metadata": {},
   "outputs": [
    {
     "name": "stdout",
     "output_type": "stream",
     "text": [
      "si coincideix,el número: 1\n",
      "si coincideix,el número: 3\n"
     ]
    }
   ],
   "source": [
    "Lx=[2,1,49,3,6,8]\n",
    "for count, item in enumerate(Lx):\n",
    "    if count==item:\n",
    "        \n",
    "        print(\"si coincideix,el número:\"  ,item)\n",
    "   \n",
    "\n",
    "\n",
    "\n",
    "   "
   ]
  },
  {
   "cell_type": "code",
   "execution_count": null,
   "id": "a08d09a3",
   "metadata": {},
   "outputs": [],
   "source": []
  }
 ],
 "metadata": {
  "kernelspec": {
   "display_name": "Python 3 (ipykernel)",
   "language": "python",
   "name": "python3"
  },
  "language_info": {
   "codemirror_mode": {
    "name": "ipython",
    "version": 3
   },
   "file_extension": ".py",
   "mimetype": "text/x-python",
   "name": "python",
   "nbconvert_exporter": "python",
   "pygments_lexer": "ipython3",
   "version": "3.9.12"
  }
 },
 "nbformat": 4,
 "nbformat_minor": 5
}
